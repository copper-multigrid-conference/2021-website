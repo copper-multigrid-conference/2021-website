{
 "cells": [
  {
   "cell_type": "code",
   "execution_count": 1,
   "metadata": {},
   "outputs": [],
   "source": [
    "import yaml"
   ]
  },
  {
   "cell_type": "code",
   "execution_count": 5,
   "metadata": {},
   "outputs": [],
   "source": [
    "with open('../data/committee.yml', 'r') as f:\n",
    "    d = yaml.load(f)"
   ]
  },
  {
   "cell_type": "code",
   "execution_count": 14,
   "metadata": {},
   "outputs": [
    {
     "name": "stdout",
     "output_type": "stream",
     "text": [
      "Robert Falgout <falgout2@llnl.gov>\n",
      "Luke Olson <lukeo@illinois.edu>\n",
      "James Brannick <brannick@psu.edu>\n",
      "Susanne Brenner <brenner@math.lsu.edu>\n",
      "Marian Brezina <marian.brezina@gmail.com>\n",
      "Hans De Sterck <hans.desterck@monash.edu>\n",
      "Craig Douglas <craig.c.douglas@gmail.com>\n",
      "Van Henson <vhenson@llnl.gov>\n",
      "Kirk Jordan <kjordan@us.ibm.com>\n",
      "Tom Manteuffel <tmanteuf@colorado.edu>\n",
      "Scott MacLachlan <smaclachlan@mun.ca>\n",
      "David Moulton <moulton@lanl.gov>\n",
      "Kees Oosterlee <c.w.oosterlee@math.tudelft.nl>\n",
      "Ulrich Rüde <ulrich.ruede@fau.de>\n",
      "John Ruge <jruge@colorado.edu>\n",
      "Stefan Vandewalle <stefan.vandewalle@kuleuven.be>\n",
      "Ulrike Yang <yang11@llnl.gov>\n",
      "Irad Yavneh <irad@cs.technion.ac.il>\n"
     ]
    }
   ],
   "source": [
    "for entry in d:\n",
    "    name = entry['name']\n",
    "    email = entry['email']\n",
    "    if name is not None:\n",
    "        names = name.split()\n",
    "        lastname = names[-1]\n",
    "        firstname = names[0]\n",
    "        if 'Hans' in firstname:\n",
    "            lastname = \" \".join(names[-2:])\n",
    "        print(\"{} {} <{}>\".format(firstname, lastname, email))"
   ]
  },
  {
   "cell_type": "code",
   "execution_count": null,
   "metadata": {},
   "outputs": [],
   "source": []
  }
 ],
 "metadata": {
  "kernelspec": {
   "display_name": "Python 3",
   "language": "python",
   "name": "python3"
  },
  "language_info": {
   "codemirror_mode": {
    "name": "ipython",
    "version": 3
   },
   "file_extension": ".py",
   "mimetype": "text/x-python",
   "name": "python",
   "nbconvert_exporter": "python",
   "pygments_lexer": "ipython3",
   "version": "3.7.1"
  }
 },
 "nbformat": 4,
 "nbformat_minor": 2
}
